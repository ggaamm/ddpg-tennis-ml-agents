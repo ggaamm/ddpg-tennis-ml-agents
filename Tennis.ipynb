{
 "cells": [
  {
   "cell_type": "markdown",
   "metadata": {},
   "source": [
    "# Collaboration and Competition\n",
    "\n",
    "---\n",
    "\n",
    "We begin by importing the necessary packages.  If the code cell below returns an error, please revisit the project instructions to double-check that you have installed [Unity ML-Agents](https://github.com/Unity-Technologies/ml-agents/blob/master/docs/Installation.md) and [NumPy](http://www.numpy.org/).\n",
    "\n",
    "### 1. Start the Environment\n",
    "\n",
    "We begin by importing the necessary packages.  If the code cell below returns an error, please revisit the project instructions to double-check that you have installed [Unity ML-Agents](https://github.com/Unity-Technologies/ml-agents/blob/master/docs/Installation.md) and [NumPy](http://www.numpy.org/).\n",
    "\n",
    "We also print the current hyperparameters that are defined for the agent."
   ]
  },
  {
   "cell_type": "code",
   "execution_count": 1,
   "metadata": {},
   "outputs": [
    {
     "name": "stdout",
     "output_type": "stream",
     "text": [
      "Buffer SIZE 2000000, BATCH_SIZE 64, GAMMA 0.99, TAU 0.001 \n",
      " LR_ACTOR 0.0001, LR_CRITIC 0.0003, WEIGHT_DECAY 0.0001\n",
      "torch current device 0\n",
      "device name GeForce GTX 1080\n"
     ]
    }
   ],
   "source": [
    "from unityagents import UnityEnvironment\n",
    "import numpy as np\n",
    "import torch\n",
    "from collections import deque\n",
    "import matplotlib.pyplot as plt\n",
    "%matplotlib inline\n",
    "import random\n",
    "import time\n",
    "\n",
    "#from ddpg_agent import AgentArray\n",
    "from ddpg_agent import Agent\n",
    "\n",
    "print('torch current device',torch.cuda.current_device())\n",
    "print('device name', torch.cuda.get_device_name(0))"
   ]
  },
  {
   "cell_type": "markdown",
   "metadata": {},
   "source": [
    "Next, we will start the environment!  **_Before running the code cell below_**, change the `file_name` parameter to match the location of the Unity environment that you downloaded.\n",
    "\n",
    "- **Mac**: `\"path/to/Tennis.app\"`\n",
    "- **Windows** (x86_64): `\"path/to/Tennis_Windows_x86_64/Tennis.exe\"`\n",
    "- **Linux** (x86_64): `\"path/to/Tennis_Linux/Tennis.x86_64\"`\n",
    "\n",
    "For instance, if you are using a Mac, then you downloaded `Tennis.app`.  If this file is in the same folder as the notebook, then the line below should appear as follows:\n",
    "```\n",
    "env = UnityEnvironment(file_name=\"Tennis.app\")\n",
    "```"
   ]
  },
  {
   "cell_type": "code",
   "execution_count": 2,
   "metadata": {},
   "outputs": [
    {
     "name": "stderr",
     "output_type": "stream",
     "text": [
      "INFO:unityagents:\n",
      "'Academy' started successfully!\n",
      "Unity Academy name: Academy\n",
      "        Number of Brains: 1\n",
      "        Number of External Brains : 1\n",
      "        Lesson number : 0\n",
      "        Reset Parameters :\n",
      "\t\t\n",
      "Unity brain name: TennisBrain\n",
      "        Number of Visual Observations (per agent): 0\n",
      "        Vector Observation space type: continuous\n",
      "        Vector Observation space size (per agent): 8\n",
      "        Number of stacked Vector Observation: 3\n",
      "        Vector Action space type: continuous\n",
      "        Vector Action space size (per agent): 2\n",
      "        Vector Action descriptions: , \n"
     ]
    }
   ],
   "source": [
    "env = UnityEnvironment(file_name=\"/home/jupiter/Research/Tennis_Linux/Tennis.x86_64\")"
   ]
  },
  {
   "cell_type": "markdown",
   "metadata": {},
   "source": [
    "Environments contain **_brains_** which are responsible for deciding the actions of their associated agents. Here we check for the first brain available, and set it as the default brain we will be controlling from Python. In addition, we also print out the observation vectors of the state space and the action space."
   ]
  },
  {
   "cell_type": "code",
   "execution_count": 3,
   "metadata": {},
   "outputs": [
    {
     "name": "stdout",
     "output_type": "stream",
     "text": [
      "brain_name, brain TennisBrain Unity brain name: TennisBrain\n",
      "        Number of Visual Observations (per agent): 0\n",
      "        Vector Observation space type: continuous\n",
      "        Vector Observation space size (per agent): 8\n",
      "        Number of stacked Vector Observation: 3\n",
      "        Vector Action space type: continuous\n",
      "        Vector Action space size (per agent): 2\n",
      "        Vector Action descriptions: , \n"
     ]
    }
   ],
   "source": [
    "# get the default brain\n",
    "brain_name = env.brain_names[0]\n",
    "brain = env.brains[brain_name]\n",
    "\n",
    "print(\"brain_name, brain\", brain_name, brain)"
   ]
  },
  {
   "cell_type": "markdown",
   "metadata": {},
   "source": [
    "### 2. Examine the State and Action Spaces\n",
    "\n",
    "In this environment, two agents control rackets to bounce a ball over a net. If an agent hits the ball over the net, it receives a reward of +0.1.  If an agent lets a ball hit the ground or hits the ball out of bounds, it receives a reward of -0.01.  Thus, the goal of each agent is to keep the ball in play.\n",
    "\n",
    "The observation space consists of 24 variables per agent corresponding to the position and velocity of the ball and racket. Two continuous actions are available per agent, corresponding to movement toward (or away from) the net, and jumping. \n",
    "\n",
    "Also, we print an example state vector."
   ]
  },
  {
   "cell_type": "code",
   "execution_count": 4,
   "metadata": {},
   "outputs": [
    {
     "name": "stdout",
     "output_type": "stream",
     "text": [
      "Number of agents: 2\n",
      "Size of each action: 2\n",
      "There are 2 agents. Each observes a state with length: 24\n",
      "The state for the first agent looks like: [ 0.          0.          0.          0.          0.          0.\n",
      "  0.          0.          0.          0.          0.          0.\n",
      "  0.          0.          0.          0.         -6.65278625 -1.5\n",
      " -0.          0.          6.83172083  6.         -0.          0.        ]\n",
      "Flattened version of the state is: [ 0.          0.          0.          0.          0.          0.\n",
      "  0.          0.          0.          0.          0.          0.\n",
      "  0.          0.          0.          0.         -6.65278625 -1.5\n",
      " -0.          0.          6.83172083  6.         -0.          0.\n",
      "  0.          0.          0.          0.          0.          0.\n",
      "  0.          0.          0.          0.          0.          0.\n",
      "  0.          0.          0.          0.         -6.4669857  -1.5\n",
      "  0.          0.         -6.83172083  6.          0.          0.        ]\n"
     ]
    }
   ],
   "source": [
    "# reset the environment\n",
    "env_info = env.reset(train_mode=True)[brain_name]\n",
    "\n",
    "# number of agents \n",
    "num_agents = len(env_info.agents)\n",
    "print('Number of agents:', num_agents)\n",
    "\n",
    "# size of each action\n",
    "action_size = brain.vector_action_space_size\n",
    "print('Size of each action:', action_size)\n",
    "\n",
    "# examine the state space \n",
    "states = env_info.vector_observations\n",
    "state_size = states.shape[1]\n",
    "print('There are {} agents. Each observes a state with length: {}'.format(states.shape[0], state_size))\n",
    "print('The state for the first agent looks like:', states[0])\n",
    "print('Flattened version of the state is:', states.flatten())"
   ]
  },
  {
   "cell_type": "markdown",
   "metadata": {},
   "source": [
    "### 3. Instantiate the Agent\n",
    "\n",
    "We instantiate the `Agent` class which combines two agents into a single by combining state space and action space. The agent also uses a single replay buffer.\n"
   ]
  },
  {
   "cell_type": "code",
   "execution_count": 5,
   "metadata": {},
   "outputs": [],
   "source": [
    "\n",
    "seedv = random.randint(2, 10000)\n",
    "agent = Agent(state_size=48, action_size=4, random_seed= 2)"
   ]
  },
  {
   "cell_type": "markdown",
   "metadata": {},
   "source": [
    "### 4. DDPG for Tennis\n",
    "\n",
    "The ddpg main function first loads the model if load_model parameter is True. Then the score_deque and score lists are initialized for keeping track of the scores. The ddpg runs until a determined number of episodes and max_t steps at each episode. If agent reaches its target, the algorithm terminates and prints the results. At each 100 episodes, the algorithm saves the current model.\n",
    "\n",
    "The most important change over the single agent model is that we flatten state space and the action space and send it to the ddpg agent to step each time step. This means that the agent makes decisions based on both agents state space and actions."
   ]
  },
  {
   "cell_type": "code",
   "execution_count": 6,
   "metadata": {
    "scrolled": false
   },
   "outputs": [
    {
     "name": "stdout",
     "output_type": "stream",
     "text": [
      "Number of episodes to run 350000\n",
      "loading the model...\n",
      "\r",
      "Episode 1\tAverage Score: 0.10\n"
     ]
    },
    {
     "name": "stderr",
     "output_type": "stream",
     "text": [
      "/home/jupiter/.local/lib/python3.6/site-packages/torch/nn/functional.py:995: UserWarning: nn.functional.tanh is deprecated. Use torch.tanh instead.\n",
      "  warnings.warn(\"nn.functional.tanh is deprecated. Use torch.tanh instead.\")\n"
     ]
    },
    {
     "name": "stdout",
     "output_type": "stream",
     "text": [
      "Episode 101\tAverage Score: 0.21\n",
      "Episode 201\tAverage Score: 0.16\n",
      "Episode 301\tAverage Score: 0.19\n",
      "Episode 401\tAverage Score: 0.33\n",
      "\n",
      "Environment solved in 448 episodes!\tAverage Score: 0.50\n",
      "Runtime wall:  268.0117664337158\n"
     ]
    },
    {
     "data": {
      "image/png": "[encoded data removed]",
      "text/plain": [
       "<Figure size 432x288 with 1 Axes>"
      ]
     },
     "metadata": {
      "needs_background": "light"
     },
     "output_type": "display_data"
    }
   ],
   "source": [
    "def ddpg(env_info, load_model = False, n_episodes=350000, max_t=5000, print_every=100):\n",
    "    print('Number of episodes to run {}'.format(n_episodes))\n",
    "    #load the model if it exists\n",
    "    if load_model:\n",
    "            print('loading the model...')\n",
    "            fname_actor = 'checkpoint_actor_mult_tennis'+'.pth'\n",
    "            fname_critic = 'checkpoint_critic_mult_tennis'+'.pth'\n",
    "            state_dict = torch.load(fname_actor)\n",
    "            agent.actor_local.load_state_dict(state_dict)\n",
    "            agent.actor_target.load_state_dict(state_dict)\n",
    "            state_dict = torch.load(fname_critic)\n",
    "            agent.critic_local.load_state_dict(state_dict)\n",
    "            agent.critic_target.load_state_dict(state_dict)\n",
    "\n",
    "    \n",
    "    #scores_deque = deque(maxlen=print_every)    #(Reacher single agent)\n",
    "    scores_deque = deque(maxlen=print_every)\n",
    "    scores = [] # will be scores for both \n",
    "    \n",
    "    \n",
    "    for i_episode in range(1, n_episodes+1):\n",
    "        env_info = env.reset(train_mode=True)[brain_name] # reset the environment\n",
    "        states = env_info.vector_observations          # get the current state\n",
    "        states = states.flatten()\n",
    "        #print(\"state shape 1\", states.shape)\n",
    "        #print('episode no', i_episode)\n",
    "        score_p = [0,0] \n",
    "\n",
    "        for t in range(max_t):\n",
    "            #print(\"state shape 2\", states.shape)\n",
    "            actions = agent.act(states) #ddpg agent action\n",
    "            actions = actions.flatten()\n",
    "            env_info = env.step(actions)[brain_name]           # send all actions to tne environment\n",
    "            next_states = env_info.vector_observations         # get next state (for each agent)\n",
    "            next_states = next_states.flatten()\n",
    "            rewards = env_info.rewards \n",
    "            dones = env_info.local_done                        # see if episode finished\n",
    "\n",
    "            #if rewards[0] != 0:\n",
    "            agent.step(states, actions, rewards, next_states, dones) ## two agents\n",
    "            score_p[0] += rewards[0]\n",
    "            score_p[1] += rewards[1]\n",
    "            #if rewards[1] != 0:\n",
    "            #agent.step(states, actions, rewards[1], next_states, dones) ## two agents\n",
    "            #score_p[1] += rewards[1]\n",
    "\n",
    "            states = next_states\n",
    "            \n",
    "            # roll over states to next time step\n",
    "            if np.any(dones):                               # exit loop if episode finished\n",
    "                break\n",
    "        #print(\"scores\", score_p[0], score_p[1])\n",
    "        score = max(score_p[0], score_p[1])\n",
    "        scores_deque.append(score)\n",
    "        scores.append(score)\n",
    "        \n",
    "        scores_window = np.mean(scores_deque, dtype=np.float64)\n",
    "        \n",
    "        \n",
    "        if i_episode % 100 == 1:\n",
    "            print('\\rEpisode {}\\tAverage Score: {:.2f}'.format(i_episode, scores_window))\n",
    "            new_seed = random.seed()\n",
    "            agent.seed = new_seed\n",
    "            fname_actor = 'checkpoint_actor_tennis'+'.pth' \n",
    "            fname_critic = 'checkpoint_critic_tennis'+'.pth' \n",
    "            torch.save(agent.actor_local.state_dict(), fname_actor)\n",
    "            torch.save(agent.critic_local.state_dict(), fname_critic)\n",
    "        \n",
    "        if scores_window >= 0.5 : # solving criteria\n",
    "            print('\\nEnvironment solved in {:d} episodes!\\tAverage Score: {:.2f}'.format(i_episode, scores_window))\n",
    "            fname_actor = 'checkpoint_actor_tennis'+'.pth' \n",
    "            fname_critic = 'checkpoint_critic_tennis'+'.pth' \n",
    "            torch.save(agent.actor_local.state_dict(), fname_actor)\n",
    "            torch.save(agent.critic_local.state_dict(), fname_critic)\n",
    "            break\n",
    "            \n",
    "    return scores\n",
    "\n",
    "time_s = time.time()\n",
    "scores = ddpg(env_info,load_model = True)\n",
    "time_e = time.time() - time_s\n",
    "print(\"Runtime wall: \", time_e)\n",
    "\n",
    "fig = plt.figure()\n",
    "ax = fig.add_subplot(111)\n",
    "plt.plot(np.arange(1, len(scores)+1), scores)\n",
    "plt.ylabel('Score')\n",
    "plt.xlabel('Episode #')\n",
    "plt.show()"
   ]
  },
  {
   "cell_type": "markdown",
   "metadata": {},
   "source": [
    "When finished, you can close the environment."
   ]
  },
  {
   "cell_type": "code",
   "execution_count": 7,
   "metadata": {},
   "outputs": [],
   "source": [
    "env.close()"
   ]
  }
 ],
 "metadata": {
  "kernelspec": {
   "display_name": "Python 3",
   "language": "python",
   "name": "python3"
  },
  "language_info": {
   "codemirror_mode": {
    "name": "ipython",
    "version": 3
   },
   "file_extension": ".py",
   "mimetype": "text/x-python",
   "name": "python",
   "nbconvert_exporter": "python",
   "pygments_lexer": "ipython3",
   "version": "3.6.7"
  }
 },
 "nbformat": 4,
 "nbformat_minor": 2
}
